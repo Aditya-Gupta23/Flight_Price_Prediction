{
 "cells": [
  {
   "cell_type": "code",
   "execution_count": 2,
   "id": "1fe1bb13-665a-44f7-9886-b2d8a3e45950",
   "metadata": {},
   "outputs": [],
   "source": [
    "import pandas as pd\n"
   ]
  },
  {
   "cell_type": "code",
   "execution_count": 3,
   "id": "7bc8b3ec-a057-4875-bc99-45f447c4c12f",
   "metadata": {},
   "outputs": [],
   "source": [
    "df = pd.read_pickle(\"cleaned_flights.pkl\")"
   ]
  },
  {
   "cell_type": "code",
   "execution_count": null,
   "id": "2c5c449e-bf9f-4b2f-9022-9325174170a6",
   "metadata": {},
   "outputs": [],
   "source": []
  },
  {
   "cell_type": "code",
   "execution_count": 4,
   "id": "6c21516a-4b69-4805-a5a5-8cdebf9d406b",
   "metadata": {},
   "outputs": [],
   "source": [
    "train_df=df[df['Price'].notna()]\n",
    "test_df=df[df['Price'].isna()]"
   ]
  },
  {
   "cell_type": "code",
   "execution_count": 5,
   "id": "bed72c46-99c8-416c-8755-f55a5ee7d5f3",
   "metadata": {},
   "outputs": [],
   "source": [
    "X_train=train_df.drop('Price',axis=1)\n",
    "y_train=train_df.Price"
   ]
  },
  {
   "cell_type": "code",
   "execution_count": 6,
   "id": "fcba60c7-2643-4d0b-aafd-8bbd602a6e99",
   "metadata": {},
   "outputs": [
    {
     "name": "stdout",
     "output_type": "stream",
     "text": [
      "<class 'pandas.core.frame.DataFrame'>\n",
      "Index: 10682 entries, 0 to 10682\n",
      "Data columns (total 30 columns):\n",
      " #   Column           Non-Null Count  Dtype  \n",
      "---  ------           --------------  -----  \n",
      " 0   Total_Stops      10682 non-null  float64\n",
      " 1   Additional_Info  10682 non-null  int64  \n",
      " 2   Date             10682 non-null  int64  \n",
      " 3   Month            10682 non-null  int64  \n",
      " 4   Year             10682 non-null  int64  \n",
      " 5   Arrival_hour     10682 non-null  int64  \n",
      " 6   Arrival_minutes  10682 non-null  int64  \n",
      " 7   Dept_hour        10682 non-null  int64  \n",
      " 8   Dept_min         10682 non-null  int64  \n",
      " 9   flight_duration  10682 non-null  int64  \n",
      " 10  Airline_1        10682 non-null  bool   \n",
      " 11  Airline_2        10682 non-null  bool   \n",
      " 12  Airline_3        10682 non-null  bool   \n",
      " 13  Airline_4        10682 non-null  bool   \n",
      " 14  Airline_5        10682 non-null  bool   \n",
      " 15  Airline_6        10682 non-null  bool   \n",
      " 16  Airline_7        10682 non-null  bool   \n",
      " 17  Airline_8        10682 non-null  bool   \n",
      " 18  Airline_9        10682 non-null  bool   \n",
      " 19  Airline_10       10682 non-null  bool   \n",
      " 20  Airline_11       10682 non-null  bool   \n",
      " 21  Source_1         10682 non-null  bool   \n",
      " 22  Source_2         10682 non-null  bool   \n",
      " 23  Source_3         10682 non-null  bool   \n",
      " 24  Source_4         10682 non-null  bool   \n",
      " 25  Destination_1    10682 non-null  bool   \n",
      " 26  Destination_2    10682 non-null  bool   \n",
      " 27  Destination_3    10682 non-null  bool   \n",
      " 28  Destination_4    10682 non-null  bool   \n",
      " 29  Destination_5    10682 non-null  bool   \n",
      "dtypes: bool(20), float64(1), int64(9)\n",
      "memory usage: 1.1 MB\n"
     ]
    }
   ],
   "source": [
    "X_train.info()"
   ]
  },
  {
   "cell_type": "code",
   "execution_count": 7,
   "id": "120c3ff7-c680-47b9-ab3d-c545d69c439e",
   "metadata": {},
   "outputs": [
    {
     "name": "stdout",
     "output_type": "stream",
     "text": [
      "<class 'pandas.core.series.Series'>\n",
      "Index: 10682 entries, 0 to 10682\n",
      "Series name: Price\n",
      "Non-Null Count  Dtype  \n",
      "--------------  -----  \n",
      "10682 non-null  float64\n",
      "dtypes: float64(1)\n",
      "memory usage: 166.9 KB\n"
     ]
    }
   ],
   "source": [
    "y_train.info()"
   ]
  },
  {
   "cell_type": "code",
   "execution_count": 8,
   "id": "abcaf57a-f89f-4f5d-b64a-efd1d475a210",
   "metadata": {},
   "outputs": [
    {
     "name": "stdout",
     "output_type": "stream",
     "text": [
      "<class 'pandas.core.frame.DataFrame'>\n",
      "Index: 2670 entries, 10683 to 13353\n",
      "Data columns (total 31 columns):\n",
      " #   Column           Non-Null Count  Dtype  \n",
      "---  ------           --------------  -----  \n",
      " 0   Total_Stops      2670 non-null   float64\n",
      " 1   Additional_Info  2670 non-null   int64  \n",
      " 2   Price            0 non-null      float64\n",
      " 3   Date             2670 non-null   int64  \n",
      " 4   Month            2670 non-null   int64  \n",
      " 5   Year             2670 non-null   int64  \n",
      " 6   Arrival_hour     2670 non-null   int64  \n",
      " 7   Arrival_minutes  2670 non-null   int64  \n",
      " 8   Dept_hour        2670 non-null   int64  \n",
      " 9   Dept_min         2670 non-null   int64  \n",
      " 10  flight_duration  2670 non-null   int64  \n",
      " 11  Airline_1        2670 non-null   bool   \n",
      " 12  Airline_2        2670 non-null   bool   \n",
      " 13  Airline_3        2670 non-null   bool   \n",
      " 14  Airline_4        2670 non-null   bool   \n",
      " 15  Airline_5        2670 non-null   bool   \n",
      " 16  Airline_6        2670 non-null   bool   \n",
      " 17  Airline_7        2670 non-null   bool   \n",
      " 18  Airline_8        2670 non-null   bool   \n",
      " 19  Airline_9        2670 non-null   bool   \n",
      " 20  Airline_10       2670 non-null   bool   \n",
      " 21  Airline_11       2670 non-null   bool   \n",
      " 22  Source_1         2670 non-null   bool   \n",
      " 23  Source_2         2670 non-null   bool   \n",
      " 24  Source_3         2670 non-null   bool   \n",
      " 25  Source_4         2670 non-null   bool   \n",
      " 26  Destination_1    2670 non-null   bool   \n",
      " 27  Destination_2    2670 non-null   bool   \n",
      " 28  Destination_3    2670 non-null   bool   \n",
      " 29  Destination_4    2670 non-null   bool   \n",
      " 30  Destination_5    2670 non-null   bool   \n",
      "dtypes: bool(20), float64(2), int64(9)\n",
      "memory usage: 302.5 KB\n"
     ]
    }
   ],
   "source": [
    "test_df.info()"
   ]
  },
  {
   "cell_type": "code",
   "execution_count": 9,
   "id": "1335a6c8-646e-4544-83cb-36cfda19c1f1",
   "metadata": {},
   "outputs": [
    {
     "name": "stderr",
     "output_type": "stream",
     "text": [
      "/var/folders/zy/_ttp6dpd6y9930rzw7p1861h0000gn/T/ipykernel_21523/1543327150.py:1: SettingWithCopyWarning: \n",
      "A value is trying to be set on a copy of a slice from a DataFrame\n",
      "\n",
      "See the caveats in the documentation: https://pandas.pydata.org/pandas-docs/stable/user_guide/indexing.html#returning-a-view-versus-a-copy\n",
      "  test_df.drop('Price',axis=1,inplace=True)\n"
     ]
    }
   ],
   "source": [
    "test_df.drop('Price',axis=1,inplace=True)"
   ]
  },
  {
   "cell_type": "code",
   "execution_count": 10,
   "id": "c4f3a1e2-e287-4259-9dae-7e7d5fd80e82",
   "metadata": {},
   "outputs": [],
   "source": [
    "from sklearn.model_selection import train_test_split\n",
    "\n",
    "X_tr,X_tst,y_tr,y_tst=train_test_split(X_train,y_train,test_size=0.2,random_state=42)"
   ]
  },
  {
   "cell_type": "code",
   "execution_count": null,
   "id": "cff252aa-805d-4b32-afa3-e82afb917095",
   "metadata": {},
   "outputs": [],
   "source": []
  },
  {
   "cell_type": "code",
   "execution_count": 11,
   "id": "bb7d4f78-2b0a-48d1-8211-74dd5a6990eb",
   "metadata": {},
   "outputs": [
    {
     "name": "stdout",
     "output_type": "stream",
     "text": [
      "Requirement already satisfied: tensorflow in ./venv/lib/python3.12/site-packages (2.20.0)\n",
      "Requirement already satisfied: absl-py>=1.0.0 in ./venv/lib/python3.12/site-packages (from tensorflow) (2.3.1)\n",
      "Requirement already satisfied: astunparse>=1.6.0 in ./venv/lib/python3.12/site-packages (from tensorflow) (1.6.3)\n",
      "Requirement already satisfied: flatbuffers>=24.3.25 in ./venv/lib/python3.12/site-packages (from tensorflow) (25.2.10)\n",
      "Requirement already satisfied: gast!=0.5.0,!=0.5.1,!=0.5.2,>=0.2.1 in ./venv/lib/python3.12/site-packages (from tensorflow) (0.6.0)\n",
      "Requirement already satisfied: google_pasta>=0.1.1 in ./venv/lib/python3.12/site-packages (from tensorflow) (0.2.0)\n",
      "Requirement already satisfied: libclang>=13.0.0 in ./venv/lib/python3.12/site-packages (from tensorflow) (18.1.1)\n",
      "Requirement already satisfied: opt_einsum>=2.3.2 in ./venv/lib/python3.12/site-packages (from tensorflow) (3.4.0)\n",
      "Requirement already satisfied: packaging in ./venv/lib/python3.12/site-packages (from tensorflow) (25.0)\n",
      "Requirement already satisfied: protobuf>=5.28.0 in ./venv/lib/python3.12/site-packages (from tensorflow) (6.32.0)\n",
      "Requirement already satisfied: requests<3,>=2.21.0 in ./venv/lib/python3.12/site-packages (from tensorflow) (2.32.4)\n",
      "Requirement already satisfied: setuptools in ./venv/lib/python3.12/site-packages (from tensorflow) (80.9.0)\n",
      "Requirement already satisfied: six>=1.12.0 in ./venv/lib/python3.12/site-packages (from tensorflow) (1.17.0)\n",
      "Requirement already satisfied: termcolor>=1.1.0 in ./venv/lib/python3.12/site-packages (from tensorflow) (3.1.0)\n",
      "Requirement already satisfied: typing_extensions>=3.6.6 in ./venv/lib/python3.12/site-packages (from tensorflow) (4.14.0)\n",
      "Requirement already satisfied: wrapt>=1.11.0 in ./venv/lib/python3.12/site-packages (from tensorflow) (1.17.3)\n",
      "Requirement already satisfied: grpcio<2.0,>=1.24.3 in ./venv/lib/python3.12/site-packages (from tensorflow) (1.74.0)\n",
      "Requirement already satisfied: tensorboard~=2.20.0 in ./venv/lib/python3.12/site-packages (from tensorflow) (2.20.0)\n",
      "Requirement already satisfied: keras>=3.10.0 in ./venv/lib/python3.12/site-packages (from tensorflow) (3.11.3)\n",
      "Requirement already satisfied: numpy>=1.26.0 in ./venv/lib/python3.12/site-packages (from tensorflow) (2.3.1)\n",
      "Requirement already satisfied: h5py>=3.11.0 in ./venv/lib/python3.12/site-packages (from tensorflow) (3.14.0)\n",
      "Requirement already satisfied: ml_dtypes<1.0.0,>=0.5.1 in ./venv/lib/python3.12/site-packages (from tensorflow) (0.5.3)\n",
      "Requirement already satisfied: wheel<1.0,>=0.23.0 in ./venv/lib/python3.12/site-packages (from astunparse>=1.6.0->tensorflow) (0.45.1)\n",
      "Requirement already satisfied: rich in ./venv/lib/python3.12/site-packages (from keras>=3.10.0->tensorflow) (14.1.0)\n",
      "Requirement already satisfied: namex in ./venv/lib/python3.12/site-packages (from keras>=3.10.0->tensorflow) (0.1.0)\n",
      "Requirement already satisfied: optree in ./venv/lib/python3.12/site-packages (from keras>=3.10.0->tensorflow) (0.17.0)\n",
      "Requirement already satisfied: charset_normalizer<4,>=2 in ./venv/lib/python3.12/site-packages (from requests<3,>=2.21.0->tensorflow) (3.4.2)\n",
      "Requirement already satisfied: idna<4,>=2.5 in ./venv/lib/python3.12/site-packages (from requests<3,>=2.21.0->tensorflow) (3.10)\n",
      "Requirement already satisfied: urllib3<3,>=1.21.1 in ./venv/lib/python3.12/site-packages (from requests<3,>=2.21.0->tensorflow) (2.5.0)\n",
      "Requirement already satisfied: certifi>=2017.4.17 in ./venv/lib/python3.12/site-packages (from requests<3,>=2.21.0->tensorflow) (2025.6.15)\n",
      "Requirement already satisfied: markdown>=2.6.8 in ./venv/lib/python3.12/site-packages (from tensorboard~=2.20.0->tensorflow) (3.9)\n",
      "Requirement already satisfied: pillow in ./venv/lib/python3.12/site-packages (from tensorboard~=2.20.0->tensorflow) (11.3.0)\n",
      "Requirement already satisfied: tensorboard-data-server<0.8.0,>=0.7.0 in ./venv/lib/python3.12/site-packages (from tensorboard~=2.20.0->tensorflow) (0.7.2)\n",
      "Requirement already satisfied: werkzeug>=1.0.1 in ./venv/lib/python3.12/site-packages (from tensorboard~=2.20.0->tensorflow) (3.1.3)\n",
      "Requirement already satisfied: MarkupSafe>=2.1.1 in ./venv/lib/python3.12/site-packages (from werkzeug>=1.0.1->tensorboard~=2.20.0->tensorflow) (3.0.2)\n",
      "Requirement already satisfied: markdown-it-py>=2.2.0 in ./venv/lib/python3.12/site-packages (from rich->keras>=3.10.0->tensorflow) (4.0.0)\n",
      "Requirement already satisfied: pygments<3.0.0,>=2.13.0 in ./venv/lib/python3.12/site-packages (from rich->keras>=3.10.0->tensorflow) (2.19.2)\n",
      "Requirement already satisfied: mdurl~=0.1 in ./venv/lib/python3.12/site-packages (from markdown-it-py>=2.2.0->rich->keras>=3.10.0->tensorflow) (0.1.2)\n",
      "\n",
      "\u001b[1m[\u001b[0m\u001b[34;49mnotice\u001b[0m\u001b[1;39;49m]\u001b[0m\u001b[39;49m A new release of pip is available: \u001b[0m\u001b[31;49m24.0\u001b[0m\u001b[39;49m -> \u001b[0m\u001b[32;49m25.2\u001b[0m\n",
      "\u001b[1m[\u001b[0m\u001b[34;49mnotice\u001b[0m\u001b[1;39;49m]\u001b[0m\u001b[39;49m To update, run: \u001b[0m\u001b[32;49mpip install --upgrade pip\u001b[0m\n"
     ]
    }
   ],
   "source": [
    "!pip install tensorflow\n"
   ]
  },
  {
   "cell_type": "code",
   "execution_count": 12,
   "id": "b506662a-e004-4e5c-8cf4-795ca8d7e1b2",
   "metadata": {},
   "outputs": [
    {
     "data": {
      "text/plain": [
       "(8545, 30)"
      ]
     },
     "execution_count": 12,
     "metadata": {},
     "output_type": "execute_result"
    }
   ],
   "source": [
    "X_tr.shape"
   ]
  },
  {
   "cell_type": "code",
   "execution_count": 13,
   "id": "f11f4dd6-e269-4017-9424-ecf2bb0d29a9",
   "metadata": {},
   "outputs": [],
   "source": [
    "from sklearn.preprocessing import StandardScaler\n",
    "scaler_x=StandardScaler()\n",
    "X_tr_scaled=scaler_x.fit_transform(X_tr)\n",
    "X_tst_scaled=scaler_x.transform(X_tst)"
   ]
  },
  {
   "cell_type": "code",
   "execution_count": 14,
   "id": "6ec5c840-4f86-4c41-be8a-38be0a28560d",
   "metadata": {},
   "outputs": [],
   "source": [
    "scaler_y=StandardScaler()\n",
    "y_tr_scaled=scaler_y.fit_transform(y_tr.values.reshape(-1,1))\n",
    "y_tst_scaled=scaler_y.transform(y_tst.values.reshape(-1,1))"
   ]
  },
  {
   "cell_type": "code",
   "execution_count": 15,
   "id": "549dcf6e-6c22-473e-9f11-bd0c6e92eff1",
   "metadata": {},
   "outputs": [],
   "source": [
    "import tensorflow as tf\n",
    "from tensorflow.keras.models import Sequential\n",
    "from tensorflow.keras.layers import Dense"
   ]
  },
  {
   "cell_type": "code",
   "execution_count": 16,
   "id": "aae3e7e6-3453-4dfd-a472-7d655868bd3a",
   "metadata": {},
   "outputs": [],
   "source": [
    "from tensorflow.keras import Input\n",
    "\n",
    "model=Sequential([\n",
    "    Input(shape=(X_tr_scaled.shape[1],)),\n",
    "    Dense(64,activation='relu',name='l1'),\n",
    "    Dense(32,activation='relu',name='l2'),\n",
    "    Dense(1,name='l3'),\n",
    "])\n",
    "model.compile(optimizer='adam',loss='mse',metrics=['mae'])"
   ]
  },
  {
   "cell_type": "code",
   "execution_count": 17,
   "id": "60b6da97-b1fb-4552-864d-c24c32d8d59d",
   "metadata": {},
   "outputs": [],
   "source": [
    "X_cv_scaled,X_ts_scaled,y_cv_scaled,y_ts_scaled=train_test_split(X_tst_scaled,y_tst_scaled,test_size=0.5,random_state=42)"
   ]
  },
  {
   "cell_type": "code",
   "execution_count": 18,
   "id": "b4d43444-691c-4662-a341-d1dd8e1c4255",
   "metadata": {},
   "outputs": [
    {
     "name": "stdout",
     "output_type": "stream",
     "text": [
      "Epoch 1/50\n",
      "\u001b[1m268/268\u001b[0m \u001b[32m━━━━━━━━━━━━━━━━━━━━\u001b[0m\u001b[37m\u001b[0m \u001b[1m1s\u001b[0m 620us/step - loss: 0.4799 - mae: 0.4517 - val_loss: 0.2884 - val_mae: 0.3453\n",
      "Epoch 2/50\n",
      "\u001b[1m268/268\u001b[0m \u001b[32m━━━━━━━━━━━━━━━━━━━━\u001b[0m\u001b[37m\u001b[0m \u001b[1m0s\u001b[0m 386us/step - loss: 0.2714 - mae: 0.3286 - val_loss: 0.2925 - val_mae: 0.3281\n",
      "Epoch 3/50\n",
      "\u001b[1m268/268\u001b[0m \u001b[32m━━━━━━━━━━━━━━━━━━━━\u001b[0m\u001b[37m\u001b[0m \u001b[1m0s\u001b[0m 380us/step - loss: 0.2584 - mae: 0.3096 - val_loss: 0.3371 - val_mae: 0.3163\n",
      "Epoch 4/50\n",
      "\u001b[1m268/268\u001b[0m \u001b[32m━━━━━━━━━━━━━━━━━━━━\u001b[0m\u001b[37m\u001b[0m \u001b[1m0s\u001b[0m 379us/step - loss: 0.2942 - mae: 0.3022 - val_loss: 0.2890 - val_mae: 0.2962\n",
      "Epoch 5/50\n",
      "\u001b[1m268/268\u001b[0m \u001b[32m━━━━━━━━━━━━━━━━━━━━\u001b[0m\u001b[37m\u001b[0m \u001b[1m0s\u001b[0m 377us/step - loss: 0.2431 - mae: 0.2891 - val_loss: 0.2304 - val_mae: 0.2875\n",
      "Epoch 6/50\n",
      "\u001b[1m268/268\u001b[0m \u001b[32m━━━━━━━━━━━━━━━━━━━━\u001b[0m\u001b[37m\u001b[0m \u001b[1m0s\u001b[0m 378us/step - loss: 0.2179 - mae: 0.2820 - val_loss: 0.1567 - val_mae: 0.2700\n",
      "Epoch 7/50\n",
      "\u001b[1m268/268\u001b[0m \u001b[32m━━━━━━━━━━━━━━━━━━━━\u001b[0m\u001b[37m\u001b[0m \u001b[1m0s\u001b[0m 377us/step - loss: 0.2033 - mae: 0.2733 - val_loss: 0.1574 - val_mae: 0.2682\n",
      "Epoch 8/50\n",
      "\u001b[1m268/268\u001b[0m \u001b[32m━━━━━━━━━━━━━━━━━━━━\u001b[0m\u001b[37m\u001b[0m \u001b[1m0s\u001b[0m 379us/step - loss: 0.1979 - mae: 0.2721 - val_loss: 0.1472 - val_mae: 0.2635\n",
      "Epoch 9/50\n",
      "\u001b[1m268/268\u001b[0m \u001b[32m━━━━━━━━━━━━━━━━━━━━\u001b[0m\u001b[37m\u001b[0m \u001b[1m0s\u001b[0m 377us/step - loss: 0.1888 - mae: 0.2649 - val_loss: 0.1525 - val_mae: 0.2719\n",
      "Epoch 10/50\n",
      "\u001b[1m268/268\u001b[0m \u001b[32m━━━━━━━━━━━━━━━━━━━━\u001b[0m\u001b[37m\u001b[0m \u001b[1m0s\u001b[0m 379us/step - loss: 0.1834 - mae: 0.2589 - val_loss: 0.1434 - val_mae: 0.2633\n",
      "Epoch 11/50\n",
      "\u001b[1m268/268\u001b[0m \u001b[32m━━━━━━━━━━━━━━━━━━━━\u001b[0m\u001b[37m\u001b[0m \u001b[1m0s\u001b[0m 377us/step - loss: 0.1786 - mae: 0.2573 - val_loss: 0.1731 - val_mae: 0.2678\n",
      "Epoch 12/50\n",
      "\u001b[1m268/268\u001b[0m \u001b[32m━━━━━━━━━━━━━━━━━━━━\u001b[0m\u001b[37m\u001b[0m \u001b[1m0s\u001b[0m 403us/step - loss: 0.1867 - mae: 0.2583 - val_loss: 0.2000 - val_mae: 0.2586\n",
      "Epoch 13/50\n",
      "\u001b[1m268/268\u001b[0m \u001b[32m━━━━━━━━━━━━━━━━━━━━\u001b[0m\u001b[37m\u001b[0m \u001b[1m0s\u001b[0m 392us/step - loss: 0.1851 - mae: 0.2517 - val_loss: 0.2237 - val_mae: 0.3156\n",
      "Epoch 14/50\n",
      "\u001b[1m268/268\u001b[0m \u001b[32m━━━━━━━━━━━━━━━━━━━━\u001b[0m\u001b[37m\u001b[0m \u001b[1m0s\u001b[0m 381us/step - loss: 0.1814 - mae: 0.2506 - val_loss: 0.1472 - val_mae: 0.2568\n",
      "Epoch 15/50\n",
      "\u001b[1m268/268\u001b[0m \u001b[32m━━━━━━━━━━━━━━━━━━━━\u001b[0m\u001b[37m\u001b[0m \u001b[1m0s\u001b[0m 378us/step - loss: 0.1696 - mae: 0.2430 - val_loss: 0.1633 - val_mae: 0.2695\n",
      "Epoch 16/50\n",
      "\u001b[1m268/268\u001b[0m \u001b[32m━━━━━━━━━━━━━━━━━━━━\u001b[0m\u001b[37m\u001b[0m \u001b[1m0s\u001b[0m 378us/step - loss: 0.1620 - mae: 0.2432 - val_loss: 0.1334 - val_mae: 0.2483\n",
      "Epoch 17/50\n",
      "\u001b[1m268/268\u001b[0m \u001b[32m━━━━━━━━━━━━━━━━━━━━\u001b[0m\u001b[37m\u001b[0m \u001b[1m0s\u001b[0m 378us/step - loss: 0.1618 - mae: 0.2422 - val_loss: 0.1447 - val_mae: 0.2569\n",
      "Epoch 18/50\n",
      "\u001b[1m268/268\u001b[0m \u001b[32m━━━━━━━━━━━━━━━━━━━━\u001b[0m\u001b[37m\u001b[0m \u001b[1m0s\u001b[0m 382us/step - loss: 0.1604 - mae: 0.2428 - val_loss: 0.1592 - val_mae: 0.2558\n",
      "Epoch 19/50\n",
      "\u001b[1m268/268\u001b[0m \u001b[32m━━━━━━━━━━━━━━━━━━━━\u001b[0m\u001b[37m\u001b[0m \u001b[1m0s\u001b[0m 379us/step - loss: 0.1603 - mae: 0.2370 - val_loss: 0.1725 - val_mae: 0.2486\n",
      "Epoch 20/50\n",
      "\u001b[1m268/268\u001b[0m \u001b[32m━━━━━━━━━━━━━━━━━━━━\u001b[0m\u001b[37m\u001b[0m \u001b[1m0s\u001b[0m 378us/step - loss: 0.1598 - mae: 0.2400 - val_loss: 0.1797 - val_mae: 0.2501\n",
      "Epoch 21/50\n",
      "\u001b[1m268/268\u001b[0m \u001b[32m━━━━━━━━━━━━━━━━━━━━\u001b[0m\u001b[37m\u001b[0m \u001b[1m0s\u001b[0m 378us/step - loss: 0.1587 - mae: 0.2351 - val_loss: 0.1878 - val_mae: 0.2482\n",
      "Epoch 22/50\n",
      "\u001b[1m268/268\u001b[0m \u001b[32m━━━━━━━━━━━━━━━━━━━━\u001b[0m\u001b[37m\u001b[0m \u001b[1m0s\u001b[0m 378us/step - loss: 0.1555 - mae: 0.2352 - val_loss: 0.1408 - val_mae: 0.2440\n",
      "Epoch 23/50\n",
      "\u001b[1m268/268\u001b[0m \u001b[32m━━━━━━━━━━━━━━━━━━━━\u001b[0m\u001b[37m\u001b[0m \u001b[1m0s\u001b[0m 379us/step - loss: 0.1524 - mae: 0.2331 - val_loss: 0.1460 - val_mae: 0.2535\n",
      "Epoch 24/50\n",
      "\u001b[1m268/268\u001b[0m \u001b[32m━━━━━━━━━━━━━━━━━━━━\u001b[0m\u001b[37m\u001b[0m \u001b[1m0s\u001b[0m 378us/step - loss: 0.1477 - mae: 0.2304 - val_loss: 0.1268 - val_mae: 0.2466\n",
      "Epoch 25/50\n",
      "\u001b[1m268/268\u001b[0m \u001b[32m━━━━━━━━━━━━━━━━━━━━\u001b[0m\u001b[37m\u001b[0m \u001b[1m0s\u001b[0m 376us/step - loss: 0.1508 - mae: 0.2316 - val_loss: 0.1307 - val_mae: 0.2421\n",
      "Epoch 26/50\n",
      "\u001b[1m268/268\u001b[0m \u001b[32m━━━━━━━━━━━━━━━━━━━━\u001b[0m\u001b[37m\u001b[0m \u001b[1m0s\u001b[0m 379us/step - loss: 0.1459 - mae: 0.2287 - val_loss: 0.1368 - val_mae: 0.2422\n",
      "Epoch 27/50\n",
      "\u001b[1m268/268\u001b[0m \u001b[32m━━━━━━━━━━━━━━━━━━━━\u001b[0m\u001b[37m\u001b[0m \u001b[1m0s\u001b[0m 381us/step - loss: 0.1426 - mae: 0.2244 - val_loss: 0.1519 - val_mae: 0.2487\n",
      "Epoch 28/50\n",
      "\u001b[1m268/268\u001b[0m \u001b[32m━━━━━━━━━━━━━━━━━━━━\u001b[0m\u001b[37m\u001b[0m \u001b[1m0s\u001b[0m 377us/step - loss: 0.1442 - mae: 0.2280 - val_loss: 0.1254 - val_mae: 0.2328\n",
      "Epoch 29/50\n",
      "\u001b[1m268/268\u001b[0m \u001b[32m━━━━━━━━━━━━━━━━━━━━\u001b[0m\u001b[37m\u001b[0m \u001b[1m0s\u001b[0m 378us/step - loss: 0.1392 - mae: 0.2219 - val_loss: 0.1455 - val_mae: 0.2501\n",
      "Epoch 30/50\n",
      "\u001b[1m268/268\u001b[0m \u001b[32m━━━━━━━━━━━━━━━━━━━━\u001b[0m\u001b[37m\u001b[0m \u001b[1m0s\u001b[0m 377us/step - loss: 0.1409 - mae: 0.2264 - val_loss: 0.1544 - val_mae: 0.2485\n",
      "Epoch 31/50\n",
      "\u001b[1m268/268\u001b[0m \u001b[32m━━━━━━━━━━━━━━━━━━━━\u001b[0m\u001b[37m\u001b[0m \u001b[1m0s\u001b[0m 396us/step - loss: 0.1378 - mae: 0.2252 - val_loss: 0.1400 - val_mae: 0.2393\n",
      "Epoch 32/50\n",
      "\u001b[1m268/268\u001b[0m \u001b[32m━━━━━━━━━━━━━━━━━━━━\u001b[0m\u001b[37m\u001b[0m \u001b[1m0s\u001b[0m 393us/step - loss: 0.1361 - mae: 0.2219 - val_loss: 0.1619 - val_mae: 0.2483\n",
      "Epoch 33/50\n",
      "\u001b[1m268/268\u001b[0m \u001b[32m━━━━━━━━━━━━━━━━━━━━\u001b[0m\u001b[37m\u001b[0m \u001b[1m0s\u001b[0m 386us/step - loss: 0.1389 - mae: 0.2219 - val_loss: 0.1315 - val_mae: 0.2340\n",
      "Epoch 34/50\n",
      "\u001b[1m268/268\u001b[0m \u001b[32m━━━━━━━━━━━━━━━━━━━━\u001b[0m\u001b[37m\u001b[0m \u001b[1m0s\u001b[0m 377us/step - loss: 0.1326 - mae: 0.2200 - val_loss: 0.1390 - val_mae: 0.2312\n",
      "Epoch 35/50\n",
      "\u001b[1m268/268\u001b[0m \u001b[32m━━━━━━━━━━━━━━━━━━━━\u001b[0m\u001b[37m\u001b[0m \u001b[1m0s\u001b[0m 379us/step - loss: 0.1311 - mae: 0.2160 - val_loss: 0.1307 - val_mae: 0.2353\n",
      "Epoch 36/50\n",
      "\u001b[1m268/268\u001b[0m \u001b[32m━━━━━━━━━━━━━━━━━━━━\u001b[0m\u001b[37m\u001b[0m \u001b[1m0s\u001b[0m 380us/step - loss: 0.1297 - mae: 0.2173 - val_loss: 0.1511 - val_mae: 0.2479\n",
      "Epoch 37/50\n",
      "\u001b[1m268/268\u001b[0m \u001b[32m━━━━━━━━━━━━━━━━━━━━\u001b[0m\u001b[37m\u001b[0m \u001b[1m0s\u001b[0m 379us/step - loss: 0.1307 - mae: 0.2165 - val_loss: 0.1352 - val_mae: 0.2410\n",
      "Epoch 38/50\n",
      "\u001b[1m268/268\u001b[0m \u001b[32m━━━━━━━━━━━━━━━━━━━━\u001b[0m\u001b[37m\u001b[0m \u001b[1m0s\u001b[0m 379us/step - loss: 0.1281 - mae: 0.2163 - val_loss: 0.1332 - val_mae: 0.2288\n",
      "Epoch 39/50\n",
      "\u001b[1m268/268\u001b[0m \u001b[32m━━━━━━━━━━━━━━━━━━━━\u001b[0m\u001b[37m\u001b[0m \u001b[1m0s\u001b[0m 380us/step - loss: 0.1292 - mae: 0.2156 - val_loss: 0.1171 - val_mae: 0.2365\n",
      "Epoch 40/50\n",
      "\u001b[1m268/268\u001b[0m \u001b[32m━━━━━━━━━━━━━━━━━━━━\u001b[0m\u001b[37m\u001b[0m \u001b[1m0s\u001b[0m 379us/step - loss: 0.1336 - mae: 0.2181 - val_loss: 0.1376 - val_mae: 0.2486\n",
      "Epoch 41/50\n",
      "\u001b[1m268/268\u001b[0m \u001b[32m━━━━━━━━━━━━━━━━━━━━\u001b[0m\u001b[37m\u001b[0m \u001b[1m0s\u001b[0m 379us/step - loss: 0.1346 - mae: 0.2161 - val_loss: 0.1292 - val_mae: 0.2266\n",
      "Epoch 42/50\n",
      "\u001b[1m268/268\u001b[0m \u001b[32m━━━━━━━━━━━━━━━━━━━━\u001b[0m\u001b[37m\u001b[0m \u001b[1m0s\u001b[0m 379us/step - loss: 0.1267 - mae: 0.2131 - val_loss: 0.1204 - val_mae: 0.2314\n",
      "Epoch 43/50\n",
      "\u001b[1m268/268\u001b[0m \u001b[32m━━━━━━━━━━━━━━━━━━━━\u001b[0m\u001b[37m\u001b[0m \u001b[1m0s\u001b[0m 378us/step - loss: 0.1236 - mae: 0.2112 - val_loss: 0.1322 - val_mae: 0.2333\n",
      "Epoch 44/50\n",
      "\u001b[1m268/268\u001b[0m \u001b[32m━━━━━━━━━━━━━━━━━━━━\u001b[0m\u001b[37m\u001b[0m \u001b[1m0s\u001b[0m 380us/step - loss: 0.1272 - mae: 0.2150 - val_loss: 0.1162 - val_mae: 0.2210\n",
      "Epoch 45/50\n",
      "\u001b[1m268/268\u001b[0m \u001b[32m━━━━━━━━━━━━━━━━━━━━\u001b[0m\u001b[37m\u001b[0m \u001b[1m0s\u001b[0m 379us/step - loss: 0.1254 - mae: 0.2129 - val_loss: 0.1211 - val_mae: 0.2281\n",
      "Epoch 46/50\n",
      "\u001b[1m268/268\u001b[0m \u001b[32m━━━━━━━━━━━━━━━━━━━━\u001b[0m\u001b[37m\u001b[0m \u001b[1m0s\u001b[0m 401us/step - loss: 0.1220 - mae: 0.2097 - val_loss: 0.1304 - val_mae: 0.2275\n",
      "Epoch 47/50\n",
      "\u001b[1m268/268\u001b[0m \u001b[32m━━━━━━━━━━━━━━━━━━━━\u001b[0m\u001b[37m\u001b[0m \u001b[1m0s\u001b[0m 388us/step - loss: 0.1200 - mae: 0.2066 - val_loss: 0.1227 - val_mae: 0.2276\n",
      "Epoch 48/50\n",
      "\u001b[1m268/268\u001b[0m \u001b[32m━━━━━━━━━━━━━━━━━━━━\u001b[0m\u001b[37m\u001b[0m \u001b[1m0s\u001b[0m 403us/step - loss: 0.1204 - mae: 0.2093 - val_loss: 0.1406 - val_mae: 0.2330\n",
      "Epoch 49/50\n",
      "\u001b[1m268/268\u001b[0m \u001b[32m━━━━━━━━━━━━━━━━━━━━\u001b[0m\u001b[37m\u001b[0m \u001b[1m0s\u001b[0m 382us/step - loss: 0.1184 - mae: 0.2073 - val_loss: 0.1281 - val_mae: 0.2286\n",
      "Epoch 50/50\n",
      "\u001b[1m268/268\u001b[0m \u001b[32m━━━━━━━━━━━━━━━━━━━━\u001b[0m\u001b[37m\u001b[0m \u001b[1m0s\u001b[0m 380us/step - loss: 0.1220 - mae: 0.2107 - val_loss: 0.1126 - val_mae: 0.2270\n"
     ]
    }
   ],
   "source": [
    "history=model.fit(\n",
    "    X_tr_scaled,\n",
    "    y_tr_scaled,\n",
    "    validation_data=(X_cv_scaled,y_cv_scaled),\n",
    "    epochs=50,\n",
    "    batch_size=32,\n",
    ")"
   ]
  },
  {
   "cell_type": "code",
   "execution_count": 19,
   "id": "ecb32796-4249-4973-b0e6-f825ae8e653f",
   "metadata": {},
   "outputs": [
    {
     "name": "stdout",
     "output_type": "stream",
     "text": [
      "\u001b[1m34/34\u001b[0m \u001b[32m━━━━━━━━━━━━━━━━━━━━\u001b[0m\u001b[37m\u001b[0m \u001b[1m0s\u001b[0m 401us/step - loss: 0.1208 - mae: 0.2212\n",
      "Test MSE: 0.12078198045492172\n",
      "Test MAE: 0.22116787731647491\n"
     ]
    }
   ],
   "source": [
    "test_loss,test_mae=model.evaluate(X_ts_scaled,y_ts_scaled)\n",
    "print(\"Test MSE:\", test_loss)\n",
    "print(\"Test MAE:\", test_mae)"
   ]
  },
  {
   "cell_type": "code",
   "execution_count": 20,
   "id": "28efb236-d39c-4084-a31b-162f5f9bca4d",
   "metadata": {},
   "outputs": [
    {
     "name": "stdout",
     "output_type": "stream",
     "text": [
      "\u001b[1m34/34\u001b[0m \u001b[32m━━━━━━━━━━━━━━━━━━━━\u001b[0m\u001b[37m\u001b[0m \u001b[1m0s\u001b[0m 631us/step\n"
     ]
    }
   ],
   "source": [
    "y_pred_scaled=model.predict(X_ts_scaled)\n",
    "y_pred=scaler_y.inverse_transform(y_pred_scaled)\n",
    "y_true = scaler_y.inverse_transform(y_ts_scaled)"
   ]
  },
  {
   "cell_type": "code",
   "execution_count": 21,
   "id": "f436540b-d012-4ea0-8db2-e0340dad6d01",
   "metadata": {},
   "outputs": [
    {
     "name": "stdout",
     "output_type": "stream",
     "text": [
      "MAE in ₹: 1020.4018705419785\n",
      "MSE in ₹^2: 2570990.108060454\n"
     ]
    }
   ],
   "source": [
    "from sklearn.metrics import mean_absolute_error, mean_squared_error\n",
    "\n",
    "mae_real = mean_absolute_error(y_true, y_pred)\n",
    "mse_real = mean_squared_error(y_true, y_pred)\n",
    "print(\"MAE in ₹:\", mae_real)\n",
    "print(\"MSE in ₹^2:\", mse_real)\n"
   ]
  },
  {
   "cell_type": "code",
   "execution_count": 22,
   "id": "e392eb54-04d2-4d35-97f0-ffdbd33d711d",
   "metadata": {},
   "outputs": [
    {
     "name": "stdout",
     "output_type": "stream",
     "text": [
      "Mean Absolute Percentage Error (MAPE) %: 12.112085890303183\n"
     ]
    }
   ],
   "source": [
    "import numpy as np\n",
    "\n",
    "percent_err=np.mean(np.abs((y_true-y_pred)/y_true))*100\n",
    "print(\"Mean Absolute Percentage Error (MAPE) %:\", percent_err)\n"
   ]
  },
  {
   "cell_type": "markdown",
   "id": "55d8ab47-cb7e-4038-b509-b64d33e26a1c",
   "metadata": {},
   "source": [
    "Decision Trees and Random Forests"
   ]
  },
  {
   "cell_type": "code",
   "execution_count": 25,
   "id": "10b63a7a-4071-4bcd-aeb4-f37aa402d57a",
   "metadata": {},
   "outputs": [],
   "source": [
    "from sklearn.tree import DecisionTreeRegressor\n",
    "from sklearn.ensemble import RandomForestRegressor\n",
    "from sklearn.metrics import mean_absolute_error,mean_squared_error\n",
    "import numpy as np"
   ]
  },
  {
   "cell_type": "code",
   "execution_count": 30,
   "id": "82d01bcc-bc2e-41f0-85f9-1ae34594211e",
   "metadata": {},
   "outputs": [
    {
     "name": "stdout",
     "output_type": "stream",
     "text": [
      "Decision Tree Results (Original Units):\n",
      "MAE: 684.0653258497039\n",
      "MSE: 2572891.123973599\n",
      "MAPE %: 8.047244016357128\n",
      "Accuracy %: 91.95275598364287\n"
     ]
    }
   ],
   "source": [
    "dt_model = DecisionTreeRegressor(random_state=42)\n",
    "dt_model.fit(X_tr_scaled, y_tr_scaled)\n",
    "\n",
    "y_dt_pred_scaled = dt_model.predict(X_ts_scaled)\n",
    "\n",
    "# Inverse transform back to original target scale\n",
    "y_dt_pred = scaler_y.inverse_transform(y_dt_pred_scaled.reshape(-1, 1))\n",
    "y_ts_orig = scaler_y.inverse_transform(y_ts_scaled.reshape(-1, 1))\n",
    "\n",
    "mae_dt = mean_absolute_error(y_ts_orig, y_dt_pred)\n",
    "mse_dt = mean_squared_error(y_ts_orig, y_dt_pred)\n",
    "mape_dt = np.mean(np.abs((y_ts_orig - y_dt_pred) / y_ts_orig)) * 100\n",
    "acc_dt = 100 - mape_dt\n",
    "\n",
    "print(\"Decision Tree Results (Original Units):\")\n",
    "print(\"MAE:\", mae_dt)\n",
    "print(\"MSE:\", mse_dt)\n",
    "print(\"MAPE %:\", mape_dt)\n",
    "print(\"Accuracy %:\", acc_dt)"
   ]
  },
  {
   "cell_type": "code",
   "execution_count": 31,
   "id": "b5fc5a67-dd9e-46dc-81e9-65adeef448c2",
   "metadata": {},
   "outputs": [],
   "source": [
    "#Random Forest\n",
    "rf_model=RandomForestRegressor(n_estimators=100,random_state=42)\n",
    "rf_model.fit(X_tr_scaled,y_tr_scaled.ravel())\n",
    "\n",
    "y_rf_pred_scaled=rf_model.predict(X_ts_scaled)\n",
    "\n",
    "y_rf_pred=scaler_y.inverse_transform(y_rf_pred_scaled.reshape(-1,1))"
   ]
  },
  {
   "cell_type": "code",
   "execution_count": 32,
   "id": "0589c7f3-84f8-4dc0-a9c0-e3840186e322",
   "metadata": {},
   "outputs": [],
   "source": [
    "mae_rf=mean_absolute_error(y_ts_orig,y_rf_pred)\n",
    "mse_rf = mean_squared_error(y_ts_orig, y_rf_pred)\n",
    "mape_rf = np.mean(np.abs((y_ts_orig - y_rf_pred) / y_ts_orig)) * 100\n",
    "acc_rf = 100 - mape_rf"
   ]
  },
  {
   "cell_type": "code",
   "execution_count": 33,
   "id": "8e7bd008-aa8b-4d83-b257-43f0047a0f5b",
   "metadata": {},
   "outputs": [
    {
     "name": "stdout",
     "output_type": "stream",
     "text": [
      "\n",
      "Random Forest Results (Original Units):\n",
      "MAE: 617.2638568792971\n",
      "MSE: 1663923.7321868443\n",
      "MAPE %: 7.197441024876808\n",
      "Accuracy %: 92.80255897512319\n"
     ]
    }
   ],
   "source": [
    "\n",
    "print(\"\\nRandom Forest Results (Original Units):\")\n",
    "print(\"MAE:\", mae_rf)\n",
    "print(\"MSE:\", mse_rf)\n",
    "print(\"MAPE %:\", mape_rf)\n",
    "print(\"Accuracy %:\", acc_rf)"
   ]
  },
  {
   "cell_type": "code",
   "execution_count": null,
   "id": "7e871694-755c-45dd-859c-1c0f34104c96",
   "metadata": {},
   "outputs": [],
   "source": []
  }
 ],
 "metadata": {
  "kernelspec": {
   "display_name": "Python 3 (ipykernel)",
   "language": "python",
   "name": "python3"
  },
  "language_info": {
   "codemirror_mode": {
    "name": "ipython",
    "version": 3
   },
   "file_extension": ".py",
   "mimetype": "text/x-python",
   "name": "python",
   "nbconvert_exporter": "python",
   "pygments_lexer": "ipython3",
   "version": "3.12.4"
  }
 },
 "nbformat": 4,
 "nbformat_minor": 5
}
